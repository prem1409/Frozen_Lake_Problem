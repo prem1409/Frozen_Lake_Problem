{
 "cells": [
  {
   "cell_type": "code",
   "execution_count": 2,
   "metadata": {},
   "outputs": [],
   "source": [
    "import numpy as np\n",
    "import gym\n",
    "import random\n",
    "import time\n",
    "from IPython.display import clear_output"
   ]
  },
  {
   "cell_type": "code",
   "execution_count": 3,
   "metadata": {},
   "outputs": [
    {
     "data": {
      "text/plain": [
       "<TimeLimit<FrozenLakeEnv<FrozenLake-v0>>>"
      ]
     },
     "execution_count": 3,
     "metadata": {},
     "output_type": "execute_result"
    }
   ],
   "source": [
    "env=gym.make(\"FrozenLake-v0\")\n",
    "env"
   ]
  },
  {
   "cell_type": "code",
   "execution_count": 5,
   "metadata": {},
   "outputs": [
    {
     "name": "stdout",
     "output_type": "stream",
     "text": [
      "4\n",
      "16\n"
     ]
    }
   ],
   "source": [
    "#Get size of action space\n",
    "action_space_size=env.action_space.n\n",
    "#Get size of state space\n",
    "state_space_size=env.observation_space.n\n",
    "print(action_space_size)\n",
    "print(state_space_size)"
   ]
  },
  {
   "cell_type": "code",
   "execution_count": 6,
   "metadata": {},
   "outputs": [
    {
     "name": "stdout",
     "output_type": "stream",
     "text": [
      "[[0. 0. 0. 0.]\n",
      " [0. 0. 0. 0.]\n",
      " [0. 0. 0. 0.]\n",
      " [0. 0. 0. 0.]\n",
      " [0. 0. 0. 0.]\n",
      " [0. 0. 0. 0.]\n",
      " [0. 0. 0. 0.]\n",
      " [0. 0. 0. 0.]\n",
      " [0. 0. 0. 0.]\n",
      " [0. 0. 0. 0.]\n",
      " [0. 0. 0. 0.]\n",
      " [0. 0. 0. 0.]\n",
      " [0. 0. 0. 0.]\n",
      " [0. 0. 0. 0.]\n",
      " [0. 0. 0. 0.]\n",
      " [0. 0. 0. 0.]]\n"
     ]
    }
   ],
   "source": [
    "q_table=np.zeros((state_space_size,action_space_size))\n",
    "print(q_table)"
   ]
  },
  {
   "cell_type": "code",
   "execution_count": 28,
   "metadata": {},
   "outputs": [],
   "source": [
    "#Number of episodes we want our agent to play during training\n",
    "num_episodes=10000\n",
    "#Maximum number of steps our agent will take per episode\n",
    "max_steps_per_episode=100\n",
    "#Rate of learning\n",
    "learning_rate=0.1\n",
    "#After every move you multiply with the discount rate\n",
    "discount_rate=0.99\n",
    "\n",
    "exploration_rate=1\n",
    "max_exploration_rate=1\n",
    "min_exploration_rate=0.01\n",
    "exploration_rate_decay=0.001\n",
    "\n",
    "\n"
   ]
  },
  {
   "cell_type": "code",
   "execution_count": 31,
   "metadata": {},
   "outputs": [
    {
     "name": "stdout",
     "output_type": "stream",
     "text": [
      "Average reward per thousand episodes\n",
      "1000 : 0.5540000000000004\n",
      "2000 : 0.7490000000000006\n",
      "3000 : 0.6950000000000005\n",
      "4000 : 0.7120000000000005\n",
      "5000 : 0.7380000000000005\n",
      "6000 : 0.6990000000000005\n",
      "7000 : 0.7530000000000006\n",
      "8000 : 0.7300000000000005\n",
      "9000 : 0.7520000000000006\n",
      "10000 : 0.7180000000000005\n",
      "Q-table\n",
      "[[0.51317656 0.49647997 0.49335469 0.49761426]\n",
      " [0.39705743 0.38998434 0.38971983 0.50730154]\n",
      " [0.39116715 0.40275521 0.39921477 0.48657679]\n",
      " [0.38268027 0.37750552 0.35471513 0.47551231]\n",
      " [0.52343457 0.44472972 0.420905   0.34523324]\n",
      " [0.         0.         0.         0.        ]\n",
      " [0.43947236 0.13374941 0.19844451 0.15180746]\n",
      " [0.         0.         0.         0.        ]\n",
      " [0.42993687 0.4685595  0.416894   0.55145862]\n",
      " [0.39724855 0.59457514 0.26942315 0.41976442]\n",
      " [0.58854271 0.39331    0.38414108 0.34352627]\n",
      " [0.         0.         0.         0.        ]\n",
      " [0.         0.         0.         0.        ]\n",
      " [0.53694028 0.40560991 0.6794765  0.55836132]\n",
      " [0.72164088 0.86208412 0.70482226 0.71404162]\n",
      " [0.         0.         0.         0.        ]]\n"
     ]
    }
   ],
   "source": [
    "rewards_all_episodes=[]\n",
    "for episode in range(num_episodes):\n",
    "    state=env.reset()\n",
    "    done=False\n",
    "    rewards_current_episode=0\n",
    "    for step in range(max_steps_per_episode):\n",
    "        exploration_rate_threshold=random.uniform(0,1)\n",
    "        if exploration_rate_threshold>exploration_rate:\n",
    "            action=np.argmax(q_table[state,:])\n",
    "        else:\n",
    "            action=env.action_space.sample()\n",
    "        new_state,reward,done,info=env.step(action)\n",
    "        q_table[state,action]=q_table[state,action]*(1-learning_rate)+learning_rate*(reward+discount_rate*np.max(q_table[new_state,:]))\n",
    "        state=new_state\n",
    "        rewards_current_episode+=reward\n",
    "        if done==True:\n",
    "            break\n",
    "    exploration_rate=min_exploration_rate+(max_exploration_rate-min_exploration_rate)*np.exp(-exploration_rate_decay*episode)\n",
    "    rewards_all_episodes.append(rewards_current_episode)\n",
    "rewards_per_thousand_episodes=np.split(np.array(rewards_all_episodes),num_episodes/1000)\n",
    "count=1000\n",
    "print(\"Average reward per thousand episodes\")\n",
    "for r in rewards_per_thousand_episodes:\n",
    "    print(count,\":\",str(sum(r/1000)))\n",
    "    count+=1000\n",
    "print(\"Q-table\")\n",
    "print(q_table)\n",
    "    "
   ]
  },
  {
   "cell_type": "code",
   "execution_count": 33,
   "metadata": {},
   "outputs": [
    {
     "name": "stdout",
     "output_type": "stream",
     "text": [
      "  (Left)\n",
      "SFFF\n",
      "\u001b[41mF\u001b[0mHFH\n",
      "FFFH\n",
      "HFFG\n",
      "Oops!!You fell in the hole\n"
     ]
    }
   ],
   "source": [
    "for episode in range(5):\n",
    "    state=env.reset()\n",
    "    done=False\n",
    "    print(\"Episode number:\",episode+1)\n",
    "    time.sleep(1)\n",
    "    for step in range(max_steps_per_episode):\n",
    "        clear_output(wait=True)\n",
    "        env.render()\n",
    "        time.sleep(0.3)\n",
    "        action=np.argmax(q_table[state,:])\n",
    "        new_state,reward,done,info=env.step(action)\n",
    "        if done:\n",
    "            clear_output(wait=True)\n",
    "            env.render()\n",
    "            if reward==1:\n",
    "                print(\"Wohooo!!You have reached your goal\")\n",
    "                time.sleep(3)\n",
    "            else:\n",
    "                print(\"Oops!!You fell in the hole\")\n",
    "                time.sleep(3)\n",
    "            clear_output(wait=True)\n",
    "            break\n",
    "        state=new_state\n",
    "env.close()"
   ]
  },
  {
   "cell_type": "code",
   "execution_count": null,
   "metadata": {},
   "outputs": [],
   "source": [
    "    "
   ]
  }
 ],
 "metadata": {
  "kernelspec": {
   "display_name": "Python 3",
   "language": "python",
   "name": "python3"
  },
  "language_info": {
   "codemirror_mode": {
    "name": "ipython",
    "version": 3
   },
   "file_extension": ".py",
   "mimetype": "text/x-python",
   "name": "python",
   "nbconvert_exporter": "python",
   "pygments_lexer": "ipython3",
   "version": "3.7.4"
  }
 },
 "nbformat": 4,
 "nbformat_minor": 2
}
